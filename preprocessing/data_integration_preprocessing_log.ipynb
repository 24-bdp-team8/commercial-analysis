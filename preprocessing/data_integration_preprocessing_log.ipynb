{
  "nbformat": 4,
  "nbformat_minor": 0,
  "metadata": {
    "colab": {
      "provenance": []
    },
    "kernelspec": {
      "name": "python3",
      "display_name": "Python 3"
    },
    "language_info": {
      "name": "python"
    }
  },
  "cells": [
    {
      "cell_type": "markdown",
      "source": [
        "# 데이터 통합 과정 (참고용)"
      ],
      "metadata": {
        "id": "CHatTpGRcOSG"
      }
    },
    {
      "cell_type": "markdown",
      "source": [
        "* .py 스크립트 작성 전 csv 파일 기반 데이터 통합 및 전처리 과정 기록\n",
        "* merged_data: 통합된 데이터\n",
        "* 구글 드라이브 데이터 업로드 -> mount 하여 사용"
      ],
      "metadata": {
        "id": "WYaa18m3cXNm"
      }
    },
    {
      "cell_type": "code",
      "execution_count": 1,
      "metadata": {
        "colab": {
          "base_uri": "https://localhost:8080/"
        },
        "id": "OWCjxJP2_O2y",
        "outputId": "00a99fb2-49a4-4b43-92dc-914a10e67036"
      },
      "outputs": [
        {
          "output_type": "stream",
          "name": "stdout",
          "text": [
            "Mounted at /content/drive\n"
          ]
        }
      ],
      "source": [
        "# 구글 드라이브 데이터 업로드 -> mount\n",
        "# 추후 data 폴더에서 데이터 받아오는 형식으로 수정\n",
        "import sys\n",
        "from google.colab import drive\n",
        "drive.mount('/content/drive')\n",
        "sys.path.append('/content/drive/MyDrive/BDP_data')"
      ]
    },
    {
      "cell_type": "code",
      "source": [
        "!ls /content/drive/MyDrive/BDP_data"
      ],
      "metadata": {
        "colab": {
          "base_uri": "https://localhost:8080/"
        },
        "id": "ng5HaQY6cdP9",
        "outputId": "7fc51e14-ef15-4dad-f1e5-faf75df727b6"
      },
      "execution_count": 18,
      "outputs": [
        {
          "output_type": "stream",
          "name": "stdout",
          "text": [
            " merged_data\n",
            " preprocessed_data\n",
            "'소상공인시장진흥공단_상가(상권)정보_강원_202409.csv'\n",
            "'소상공인시장진흥공단_상가(상권)정보_경기_202409.csv'\n",
            "'소상공인시장진흥공단_상가(상권)정보_경남_202409.csv'\n",
            "'소상공인시장진흥공단_상가(상권)정보_경북_202409.csv'\n",
            "'소상공인시장진흥공단_상가(상권)정보_광주_202409.csv'\n",
            "'소상공인시장진흥공단_상가(상권)정보_대구_202409.csv'\n",
            "'소상공인시장진흥공단_상가(상권)정보_대전_202409.csv'\n",
            "'소상공인시장진흥공단_상가(상권)정보_부산_202409.csv'\n",
            "'소상공인시장진흥공단_상가(상권)정보_서울_202409.csv'\n",
            "'소상공인시장진흥공단_상가(상권)정보_세종_202409.csv'\n",
            "'소상공인시장진흥공단_상가(상권)정보_울산_202409.csv'\n",
            "'소상공인시장진흥공단_상가(상권)정보_인천_202409.csv'\n",
            "'소상공인시장진흥공단_상가(상권)정보_전남_202409.csv'\n",
            "'소상공인시장진흥공단_상가(상권)정보_전북_202409.csv'\n",
            "'소상공인시장진흥공단_상가(상권)정보_제주_202409.csv'\n",
            "'소상공인시장진흥공단_상가(상권)정보_충남_202409.csv'\n",
            "'소상공인시장진흥공단_상가(상권)정보_충북_202409.csv'\n"
          ]
        }
      ]
    },
    {
      "cell_type": "code",
      "source": [
        "import os\n",
        "import glob\n",
        "import pandas as pd\n",
        "\n",
        "# 데이터 폴더 경로\n",
        "# 추후 수정\n",
        "data_dir = '/content/drive/MyDrive/BDP_data'\n",
        "output_dir = '/content/drive/MyDrive/BDP_data/merged_data'\n",
        "\n",
        "# merged_data 폴더 생성\n",
        "if not os.path.exists(output_dir):\n",
        "    os.makedirs(output_dir)  # 폴더가 없으면 생성\n",
        "\n",
        "# 폴더 내 모든 CSV 파일 경로 가져오기\n",
        "csv_files = glob.glob(f\"{data_dir}/*.csv\")\n",
        "\n",
        "print(\"찾은 CSV 파일 목록:\")\n",
        "for file in csv_files:\n",
        "    print(file)"
      ],
      "metadata": {
        "colab": {
          "base_uri": "https://localhost:8080/"
        },
        "id": "j0f6aQgPce4X",
        "outputId": "fdef3fe7-15db-4460-d160-c93858667f58"
      },
      "execution_count": 3,
      "outputs": [
        {
          "output_type": "stream",
          "name": "stdout",
          "text": [
            "찾은 CSV 파일 목록:\n",
            "/content/drive/MyDrive/BDP_data/소상공인시장진흥공단_상가(상권)정보_서울_202409.csv\n",
            "/content/drive/MyDrive/BDP_data/소상공인시장진흥공단_상가(상권)정보_세종_202409.csv\n",
            "/content/drive/MyDrive/BDP_data/소상공인시장진흥공단_상가(상권)정보_울산_202409.csv\n",
            "/content/drive/MyDrive/BDP_data/소상공인시장진흥공단_상가(상권)정보_인천_202409.csv\n",
            "/content/drive/MyDrive/BDP_data/소상공인시장진흥공단_상가(상권)정보_전남_202409.csv\n",
            "/content/drive/MyDrive/BDP_data/소상공인시장진흥공단_상가(상권)정보_전북_202409.csv\n",
            "/content/drive/MyDrive/BDP_data/소상공인시장진흥공단_상가(상권)정보_제주_202409.csv\n",
            "/content/drive/MyDrive/BDP_data/소상공인시장진흥공단_상가(상권)정보_충남_202409.csv\n",
            "/content/drive/MyDrive/BDP_data/소상공인시장진흥공단_상가(상권)정보_충북_202409.csv\n",
            "/content/drive/MyDrive/BDP_data/소상공인시장진흥공단_상가(상권)정보_강원_202409.csv\n",
            "/content/drive/MyDrive/BDP_data/소상공인시장진흥공단_상가(상권)정보_경기_202409.csv\n",
            "/content/drive/MyDrive/BDP_data/소상공인시장진흥공단_상가(상권)정보_경남_202409.csv\n",
            "/content/drive/MyDrive/BDP_data/소상공인시장진흥공단_상가(상권)정보_경북_202409.csv\n",
            "/content/drive/MyDrive/BDP_data/소상공인시장진흥공단_상가(상권)정보_광주_202409.csv\n",
            "/content/drive/MyDrive/BDP_data/소상공인시장진흥공단_상가(상권)정보_대구_202409.csv\n",
            "/content/drive/MyDrive/BDP_data/소상공인시장진흥공단_상가(상권)정보_대전_202409.csv\n",
            "/content/drive/MyDrive/BDP_data/소상공인시장진흥공단_상가(상권)정보_부산_202409.csv\n"
          ]
        }
      ]
    },
    {
      "cell_type": "code",
      "source": [
        "# 모든 CSV 파일 읽기\n",
        "dataframes = [pd.read_csv(file, encoding='utf-8') for file in csv_files]\n",
        "\n",
        "# 하나의 데이터프레임으로 병합\n",
        "merged_data = pd.concat(dataframes, ignore_index=True)\n",
        "\n",
        "# 병합된 데이터 확인\n",
        "print(\"병합된 데이터:\")\n",
        "print(merged_data.tail())"
      ],
      "metadata": {
        "colab": {
          "base_uri": "https://localhost:8080/"
        },
        "id": "81bnOTXRchqI",
        "outputId": "448f6be4-81a3-4456-e836-088f3271504c"
      },
      "execution_count": 4,
      "outputs": [
        {
          "output_type": "stream",
          "name": "stderr",
          "text": [
            "<ipython-input-4-3500cd6270b6>:2: DtypeWarning: Columns (2) have mixed types. Specify dtype option on import or set low_memory=False.\n",
            "  dataframes = [pd.read_csv(file, encoding='utf-8') for file in csv_files]\n",
            "<ipython-input-4-3500cd6270b6>:2: DtypeWarning: Columns (2,35) have mixed types. Specify dtype option on import or set low_memory=False.\n",
            "  dataframes = [pd.read_csv(file, encoding='utf-8') for file in csv_files]\n",
            "<ipython-input-4-3500cd6270b6>:2: DtypeWarning: Columns (2) have mixed types. Specify dtype option on import or set low_memory=False.\n",
            "  dataframes = [pd.read_csv(file, encoding='utf-8') for file in csv_files]\n",
            "<ipython-input-4-3500cd6270b6>:2: DtypeWarning: Columns (2) have mixed types. Specify dtype option on import or set low_memory=False.\n",
            "  dataframes = [pd.read_csv(file, encoding='utf-8') for file in csv_files]\n",
            "<ipython-input-4-3500cd6270b6>:2: DtypeWarning: Columns (2) have mixed types. Specify dtype option on import or set low_memory=False.\n",
            "  dataframes = [pd.read_csv(file, encoding='utf-8') for file in csv_files]\n",
            "<ipython-input-4-3500cd6270b6>:2: DtypeWarning: Columns (2) have mixed types. Specify dtype option on import or set low_memory=False.\n",
            "  dataframes = [pd.read_csv(file, encoding='utf-8') for file in csv_files]\n",
            "<ipython-input-4-3500cd6270b6>:2: DtypeWarning: Columns (2) have mixed types. Specify dtype option on import or set low_memory=False.\n",
            "  dataframes = [pd.read_csv(file, encoding='utf-8') for file in csv_files]\n",
            "<ipython-input-4-3500cd6270b6>:2: DtypeWarning: Columns (2) have mixed types. Specify dtype option on import or set low_memory=False.\n",
            "  dataframes = [pd.read_csv(file, encoding='utf-8') for file in csv_files]\n",
            "<ipython-input-4-3500cd6270b6>:2: DtypeWarning: Columns (2) have mixed types. Specify dtype option on import or set low_memory=False.\n",
            "  dataframes = [pd.read_csv(file, encoding='utf-8') for file in csv_files]\n",
            "<ipython-input-4-3500cd6270b6>:2: DtypeWarning: Columns (2) have mixed types. Specify dtype option on import or set low_memory=False.\n",
            "  dataframes = [pd.read_csv(file, encoding='utf-8') for file in csv_files]\n",
            "<ipython-input-4-3500cd6270b6>:2: DtypeWarning: Columns (2) have mixed types. Specify dtype option on import or set low_memory=False.\n",
            "  dataframes = [pd.read_csv(file, encoding='utf-8') for file in csv_files]\n",
            "<ipython-input-4-3500cd6270b6>:2: DtypeWarning: Columns (2,35) have mixed types. Specify dtype option on import or set low_memory=False.\n",
            "  dataframes = [pd.read_csv(file, encoding='utf-8') for file in csv_files]\n",
            "<ipython-input-4-3500cd6270b6>:2: DtypeWarning: Columns (2) have mixed types. Specify dtype option on import or set low_memory=False.\n",
            "  dataframes = [pd.read_csv(file, encoding='utf-8') for file in csv_files]\n",
            "<ipython-input-4-3500cd6270b6>:2: DtypeWarning: Columns (2) have mixed types. Specify dtype option on import or set low_memory=False.\n",
            "  dataframes = [pd.read_csv(file, encoding='utf-8') for file in csv_files]\n",
            "<ipython-input-4-3500cd6270b6>:2: DtypeWarning: Columns (2) have mixed types. Specify dtype option on import or set low_memory=False.\n",
            "  dataframes = [pd.read_csv(file, encoding='utf-8') for file in csv_files]\n",
            "<ipython-input-4-3500cd6270b6>:2: DtypeWarning: Columns (2) have mixed types. Specify dtype option on import or set low_memory=False.\n",
            "  dataframes = [pd.read_csv(file, encoding='utf-8') for file in csv_files]\n"
          ]
        },
        {
          "output_type": "stream",
          "name": "stdout",
          "text": [
            "병합된 데이터:\n",
            "                       상가업소번호        상호명  지점명 상권업종대분류코드 상권업종대분류명 상권업종중분류코드  \\\n",
            "2389482  MA0101202406A0476645       수연식당  NaN        I2       음식      I201   \n",
            "2389483  MA0101202406A0482972   페스티발가라오케  NaN        I2       음식      I211   \n",
            "2389484  MA0101202406A0471221    웰컴투뮤즈월드  NaN        P1       교육      P107   \n",
            "2389485  MA0101202406A0497602        슈아브  NaN        I2       음식      I212   \n",
            "2389486  MA0101202406A0470616  공동법률사무소문정  NaN        M1    과학·기술      M103   \n",
            "\n",
            "        상권업종중분류명 상권업종소분류코드 상권업종소분류명 표준산업분류코드  ...                     건물관리번호  \\\n",
            "2389482       한식    I20101   백반/한정식   I56111  ...  2635010300112910820017224   \n",
            "2389483       주점    I21104    요리 주점   I56219  ...  2635010600113930005005730   \n",
            "2389484    교육 지원    P10701   교육컨설팅업   P85701  ...  2623010300102260001005883   \n",
            "2389485    비알코올     I21201       카페   I56221  ...  2614011900100540003000245   \n",
            "2389486    법무관련     M10301      변호사   M71101  ...  2647010100114920003019273   \n",
            "\n",
            "            건물명                    도로명주소     구우편번호  신우편번호  동정보  층정보  호정보  \\\n",
            "2389482     NaN     부산광역시 해운대구 재반로 207-1  612814.0  48029  NaN    2  NaN   \n",
            "2389483     NaN        부산광역시 해운대구 구남로 29  612847.0  48095  NaN    4  NaN   \n",
            "2389484     NaN  부산광역시 부산진구 중앙대로680번길 22  614846.0  47296  NaN  NaN  NaN   \n",
            "2389485     NaN         부산광역시 서구 구덕로 147  602834.0  49245  NaN    2  NaN   \n",
            "2389486  대한타워빌딩    부산광역시 연제구 법원남로15번길 12  611730.0  47511  NaN    7  NaN   \n",
            "\n",
            "                 경도         위도  \n",
            "2389482  129.130625  35.195837  \n",
            "2389483  129.161026  35.161522  \n",
            "2389484  129.060463  35.153214  \n",
            "2389485  129.020472  35.097986  \n",
            "2389486  129.073684  35.190460  \n",
            "\n",
            "[5 rows x 39 columns]\n"
          ]
        }
      ]
    },
    {
      "cell_type": "code",
      "source": [
        "# 병합된 데이터 저장 경로\n",
        "output_file = os.path.join(output_dir, 'merged_data.csv')\n",
        "\n",
        "# 병합된 데이터 저장\n",
        "merged_data.to_csv(output_file, index=False, encoding='utf-8')\n",
        "print(f\"병합된 데이터 저장 완료: {output_file}\")"
      ],
      "metadata": {
        "colab": {
          "base_uri": "https://localhost:8080/"
        },
        "id": "tLRwjnOOcjit",
        "outputId": "93f73daa-f6a8-4a04-cf7c-be28b2f37051"
      },
      "execution_count": 5,
      "outputs": [
        {
          "output_type": "stream",
          "name": "stdout",
          "text": [
            "병합된 데이터 저장 완료: /content/drive/MyDrive/BDP_data/merged_data/merged_data.csv\n"
          ]
        }
      ]
    },
    {
      "cell_type": "markdown",
      "source": [
        "# 데이터 전처리 과정 (참고용)"
      ],
      "metadata": {
        "id": "uBfLoQA2cPs2"
      }
    },
    {
      "cell_type": "markdown",
      "source": [
        "## 1. 데이터 로드"
      ],
      "metadata": {
        "id": "xKNizTRkL34e"
      }
    },
    {
      "cell_type": "code",
      "source": [
        "import pandas as pd\n",
        "\n",
        "# 통합된 데이터 경로\n",
        "merged_data_path = '/content/drive/MyDrive/BDP_data/merged_data/merged_data.csv'\n",
        "\n",
        "# 데이터 읽기\n",
        "data = pd.read_csv(merged_data_path, encoding='utf-8')\n",
        "\n",
        "# 데이터프레임 확인\n",
        "print(\"데이터 크기:\", data.shape)\n",
        "print(\"데이터 컬럼:\")\n",
        "print(data.columns)\n",
        "print(\"상위 5개 데이터:\")\n",
        "print(data.head())\n",
        "\n",
        "# 데이터프레임의 컬럼별 데이터 타입 확인\n",
        "print(data.dtypes)"
      ],
      "metadata": {
        "colab": {
          "base_uri": "https://localhost:8080/"
        },
        "id": "PppdvYD7AZeC",
        "outputId": "bb1191e4-573d-4375-de5d-dded6071a068"
      },
      "execution_count": 6,
      "outputs": [
        {
          "output_type": "stream",
          "name": "stderr",
          "text": [
            "<ipython-input-6-af6daac1718e>:7: DtypeWarning: Columns (2,35) have mixed types. Specify dtype option on import or set low_memory=False.\n",
            "  data = pd.read_csv(merged_data_path, encoding='utf-8')\n"
          ]
        },
        {
          "output_type": "stream",
          "name": "stdout",
          "text": [
            "데이터 크기: (2389487, 39)\n",
            "데이터 컬럼:\n",
            "Index(['상가업소번호', '상호명', '지점명', '상권업종대분류코드', '상권업종대분류명', '상권업종중분류코드',\n",
            "       '상권업종중분류명', '상권업종소분류코드', '상권업종소분류명', '표준산업분류코드', '표준산업분류명', '시도코드',\n",
            "       '시도명', '시군구코드', '시군구명', '행정동코드', '행정동명', '법정동코드', '법정동명', '지번코드',\n",
            "       '대지구분코드', '대지구분명', '지번본번지', '지번부번지', '지번주소', '도로명코드', '도로명', '건물본번지',\n",
            "       '건물부번지', '건물관리번호', '건물명', '도로명주소', '구우편번호', '신우편번호', '동정보', '층정보',\n",
            "       '호정보', '경도', '위도'],\n",
            "      dtype='object')\n",
            "상위 5개 데이터:\n",
            "                 상가업소번호       상호명  지점명 상권업종대분류코드 상권업종대분류명 상권업종중분류코드  \\\n",
            "0  MA0101202210A0093845     이상한스냅  NaN        M1    과학·기술      M113   \n",
            "1  MA010120220805430767       토끼정  NaN        I2       음식      I201   \n",
            "2  MA010120220805430797       가배차  NaN        I2       음식      I201   \n",
            "3  MA010120220805430812  비에이치씨항동점  NaN        I2       음식      I210   \n",
            "4  MA010120220805430834   무지개삼성약국  NaN        G2       소매      G215   \n",
            "\n",
            "    상권업종중분류명 상권업종소분류코드 상권업종소분류명 표준산업분류코드  ...                     건물관리번호  \\\n",
            "0      사진 촬영    M11301    사진촬영업   M73303  ...  1147010300100090004000001   \n",
            "1         한식    I20101   백반/한정식   I56111  ...  1150010500107740012000001   \n",
            "2         한식    I20101   백반/한정식   I56111  ...  1171010400101430002012823   \n",
            "3      기타 간이    I21006       치킨   I56193  ...  1153011200101000005000001   \n",
            "4  의약·화장품 소매    G21501       약국   G47811  ...  1168011400106840005002734   \n",
            "\n",
            "               건물명              도로명주소     구우편번호 신우편번호  동정보  층정보  호정보  \\\n",
            "0             백송주택  서울특별시 양천구 월정로 283  158822.0  7902  NaN  NaN  NaN   \n",
            "1            마커스빌딩  서울특별시 강서구 마곡동로 55  157805.0  7802  NaN    2  NaN   \n",
            "2           사이언스빌딩  서울특별시 송파구 가락로 209  138852.0  5663  NaN    1  NaN   \n",
            "3  항동중흥에스클래스베르데카운티  서울특별시 구로구 연동로 233  152140.0  8362  NaN    1  NaN   \n",
            "4             대훈빌딩   서울특별시 강남구 일원로 45  135516.0  6343  NaN  NaN  NaN   \n",
            "\n",
            "           경도         위도  \n",
            "0  126.828832  37.542117  \n",
            "1  126.833022  37.560053  \n",
            "2  127.116136  37.507170  \n",
            "3  126.820686  37.481640  \n",
            "4  127.081499  37.489893  \n",
            "\n",
            "[5 rows x 39 columns]\n",
            "상가업소번호        object\n",
            "상호명           object\n",
            "지점명           object\n",
            "상권업종대분류코드     object\n",
            "상권업종대분류명      object\n",
            "상권업종중분류코드     object\n",
            "상권업종중분류명      object\n",
            "상권업종소분류코드     object\n",
            "상권업종소분류명      object\n",
            "표준산업분류코드      object\n",
            "표준산업분류명       object\n",
            "시도코드           int64\n",
            "시도명           object\n",
            "시군구코드          int64\n",
            "시군구명          object\n",
            "행정동코드          int64\n",
            "행정동명          object\n",
            "법정동코드          int64\n",
            "법정동명          object\n",
            "지번코드           int64\n",
            "대지구분코드         int64\n",
            "대지구분명         object\n",
            "지번본번지        float64\n",
            "지번부번지        float64\n",
            "지번주소          object\n",
            "도로명코드        float64\n",
            "도로명           object\n",
            "건물본번지        float64\n",
            "건물부번지        float64\n",
            "건물관리번호        object\n",
            "건물명           object\n",
            "도로명주소         object\n",
            "구우편번호        float64\n",
            "신우편번호          int64\n",
            "동정보          float64\n",
            "층정보           object\n",
            "호정보          float64\n",
            "경도           float64\n",
            "위도           float64\n",
            "dtype: object\n"
          ]
        }
      ]
    },
    {
      "cell_type": "code",
      "source": [
        "#컬럼명 확인 및 정리\n",
        "print(\"원본 컬럼명:\", list(data.columns))\n",
        "data.columns = data.columns.str.strip()  # 공백 제거\n",
        "print(\"정리된 컬럼명:\", list(data.columns))"
      ],
      "metadata": {
        "colab": {
          "base_uri": "https://localhost:8080/"
        },
        "id": "Dz5uWfHJDtAZ",
        "outputId": "a0d9ca3c-77b6-479d-e097-a4757d4074d6"
      },
      "execution_count": 7,
      "outputs": [
        {
          "output_type": "stream",
          "name": "stdout",
          "text": [
            "원본 컬럼명: ['상가업소번호', '상호명', '지점명', '상권업종대분류코드', '상권업종대분류명', '상권업종중분류코드', '상권업종중분류명', '상권업종소분류코드', '상권업종소분류명', '표준산업분류코드', '표준산업분류명', '시도코드', '시도명', '시군구코드', '시군구명', '행정동코드', '행정동명', '법정동코드', '법정동명', '지번코드', '대지구분코드', '대지구분명', '지번본번지', '지번부번지', '지번주소', '도로명코드', '도로명', '건물본번지', '건물부번지', '건물관리번호', '건물명', '도로명주소', '구우편번호', '신우편번호', '동정보', '층정보', '호정보', '경도', '위도']\n",
            "정리된 컬럼명: ['상가업소번호', '상호명', '지점명', '상권업종대분류코드', '상권업종대분류명', '상권업종중분류코드', '상권업종중분류명', '상권업종소분류코드', '상권업종소분류명', '표준산업분류코드', '표준산업분류명', '시도코드', '시도명', '시군구코드', '시군구명', '행정동코드', '행정동명', '법정동코드', '법정동명', '지번코드', '대지구분코드', '대지구분명', '지번본번지', '지번부번지', '지번주소', '도로명코드', '도로명', '건물본번지', '건물부번지', '건물관리번호', '건물명', '도로명주소', '구우편번호', '신우편번호', '동정보', '층정보', '호정보', '경도', '위도']\n"
          ]
        }
      ]
    },
    {
      "cell_type": "markdown",
      "source": [
        "## 2. 결측값 처리"
      ],
      "metadata": {
        "id": "TF-k03oFL7nv"
      }
    },
    {
      "cell_type": "code",
      "source": [
        "# 컬럼별 결측값 개수 확인\n",
        "print(\"\\n>> 결측값 처리 중...\")\n",
        "missing_values = data.isnull().sum()\n",
        "print(\"컬럼별 결측값 개수:\\n\", missing_values)"
      ],
      "metadata": {
        "colab": {
          "base_uri": "https://localhost:8080/"
        },
        "id": "_RVL_m4zL7B7",
        "outputId": "eca95e78-8cdd-477c-8e1e-8002f7a69f03"
      },
      "execution_count": 8,
      "outputs": [
        {
          "output_type": "stream",
          "name": "stdout",
          "text": [
            "\n",
            ">> 결측값 처리 중...\n",
            "컬럼별 결측값 개수:\n",
            " 상가업소번호             0\n",
            "상호명                1\n",
            "지점명          2334128\n",
            "상권업종대분류코드          0\n",
            "상권업종대분류명           0\n",
            "상권업종중분류코드          0\n",
            "상권업종중분류명           0\n",
            "상권업종소분류코드          0\n",
            "상권업종소분류명           0\n",
            "표준산업분류코드         663\n",
            "표준산업분류명          663\n",
            "시도코드               0\n",
            "시도명                0\n",
            "시군구코드              0\n",
            "시군구명               0\n",
            "행정동코드              0\n",
            "행정동명               0\n",
            "법정동코드              0\n",
            "법정동명               0\n",
            "지번코드               0\n",
            "대지구분코드             0\n",
            "대지구분명              0\n",
            "지번본번지            637\n",
            "지번부번지         483403\n",
            "지번주소               0\n",
            "도로명코드           1423\n",
            "도로명                0\n",
            "건물본번지           1424\n",
            "건물부번지        1911941\n",
            "건물관리번호           201\n",
            "건물명          1570506\n",
            "도로명주소              0\n",
            "구우편번호          18451\n",
            "신우편번호              0\n",
            "동정보          2389487\n",
            "층정보          1195943\n",
            "호정보          2389487\n",
            "경도                 0\n",
            "위도                 0\n",
            "dtype: int64\n"
          ]
        }
      ]
    },
    {
      "cell_type": "markdown",
      "source": [
        "### 결측값 처리 기준\n",
        "\n",
        "(1) 컬럼 삭제\n",
        "\n",
        "- 결측값 비율이 높아 유의미한 분석 불가능.\n",
        "- 주요 분석에 필요하지 않은 정보.\n",
        "\n",
        "- 지번부번지: 결측값 약 48만 건 (20.2%)\n",
        "- 건물부번지: 결측값 약 191만 건 (80%)\n",
        "- 동정보: 모든 값 결측.\n",
        "- 층정보: 결측값 약 50.0% 및 불규칙한 값 존재 확인. 분석에 도움이 되지 않는 정보.\n",
        "- 호정보: 모든 값 결측.\n",
        "\n",
        "(2) 결측값 대체\n",
        "\n",
        "- 지점명: 결측값을 '본점'으로 대체.\n",
        "- 기준: 지점명이 없는 상호는 본점으로 간주.\n",
        "- 지번본번지, 도로명코드, 건물본번지: 결측값을 0으로 대체.\n",
        "- 구우편번호: 결측값을 0으로 대체.\n",
        "\n",
        "(3) 행 삭제\n",
        "- 분석에 핵심적인 정보가 결측된 경우 해당 행을 삭제\n",
        "- 상호명, 표준산업분류코드, 표준산업분류명 중 하나라도 결측인 행 삭제. (업소 및 업종에 대한 분석에 필수적이므로 결측값을 허용할 수 없음)\n",
        "\n",
        "\n"
      ],
      "metadata": {
        "id": "zYdlOOSC-1Ia"
      }
    },
    {
      "cell_type": "code",
      "source": [
        "import pandas as pd\n",
        "import re\n",
        "\n",
        "# 1. 삭제 대상 컬럼 제거\n",
        "columns_to_drop = ['지번부번지', '건물부번지', '동정보', '층정보', '호정보']\n",
        "data = data.drop(columns=columns_to_drop, errors='ignore')\n",
        "print(f\"삭제된 컬럼: {columns_to_drop}\")\n",
        "\n",
        "# 2. 결측값 대체\n",
        "# 지점명: 결측값을 '본점'으로 대체\n",
        "data['지점명'] = data['지점명'].fillna('본점')\n",
        "\n",
        "# 지번본번지, 도로명코드, 건물본번지: 결측값을 0으로 대체\n",
        "data['지번본번지'] = data['지번본번지'].fillna(0).astype(int)\n",
        "data['도로명코드'] = data['도로명코드'].fillna(0).astype(int)\n",
        "data['건물본번지'] = data['건물본번지'].fillna(0).astype(int)\n",
        "\n",
        "# 구우편번호: 결측값을 0으로 대체\n",
        "data['구우편번호'] = data['구우편번호'].fillna(0).astype(int)\n",
        "\n",
        "# 3. 삭제 대상 행 제거\n",
        "data = data.dropna(subset=['상호명', '표준산업분류코드', '표준산업분류명'])\n",
        "print(\"결측값이 있는 행 삭제 완료\")\n",
        "\n",
        "# 결측값 처리 후 확인\n",
        "print(\"\\n결측값 처리 후 데이터 크기:\", data.shape)\n",
        "print(\"컬럼별 결측값 개수:\\n\", data.isnull().sum())"
      ],
      "metadata": {
        "colab": {
          "base_uri": "https://localhost:8080/"
        },
        "id": "5fG7PWqt-55y",
        "outputId": "5694edea-fc5b-40ef-d59e-0ba8ce4b17cd"
      },
      "execution_count": 9,
      "outputs": [
        {
          "output_type": "stream",
          "name": "stdout",
          "text": [
            "삭제된 컬럼: ['지번부번지', '건물부번지', '동정보', '층정보', '호정보']\n",
            "결측값이 있는 행 삭제 완료\n",
            "\n",
            "결측값 처리 후 데이터 크기: (2388823, 34)\n",
            "컬럼별 결측값 개수:\n",
            " 상가업소번호             0\n",
            "상호명                0\n",
            "지점명                0\n",
            "상권업종대분류코드          0\n",
            "상권업종대분류명           0\n",
            "상권업종중분류코드          0\n",
            "상권업종중분류명           0\n",
            "상권업종소분류코드          0\n",
            "상권업종소분류명           0\n",
            "표준산업분류코드           0\n",
            "표준산업분류명            0\n",
            "시도코드               0\n",
            "시도명                0\n",
            "시군구코드              0\n",
            "시군구명               0\n",
            "행정동코드              0\n",
            "행정동명               0\n",
            "법정동코드              0\n",
            "법정동명               0\n",
            "지번코드               0\n",
            "대지구분코드             0\n",
            "대지구분명              0\n",
            "지번본번지              0\n",
            "지번주소               0\n",
            "도로명코드              0\n",
            "도로명                0\n",
            "건물본번지              0\n",
            "건물관리번호           201\n",
            "건물명          1570125\n",
            "도로명주소              0\n",
            "구우편번호              0\n",
            "신우편번호              0\n",
            "경도                 0\n",
            "위도                 0\n",
            "dtype: int64\n"
          ]
        }
      ]
    },
    {
      "cell_type": "markdown",
      "source": [
        "## 3. 데이터 정제"
      ],
      "metadata": {
        "id": "C1IfymKdKDRJ"
      }
    },
    {
      "cell_type": "code",
      "source": [
        "# 상가업소번호를 기준으로 중복 행을 제거\n",
        "# 고유한 상점 정보만 유지하여 데이터의 정확성을 확보\n",
        "print(\"\\n>> 중복 제거 중...\")\n",
        "before_duplicates = data.shape[0]\n",
        "data = data.drop_duplicates(subset=['상가업소번호'])\n",
        "after_duplicates = data.shape[0]\n",
        "print(f\"중복 제거 완료: {before_duplicates - after_duplicates}개 중복 제거\")"
      ],
      "metadata": {
        "colab": {
          "base_uri": "https://localhost:8080/"
        },
        "id": "8pvVOllxIlmw",
        "outputId": "b868931e-c6c2-49f0-ba5c-ae99ca2d6d83"
      },
      "execution_count": 10,
      "outputs": [
        {
          "output_type": "stream",
          "name": "stdout",
          "text": [
            "\n",
            ">> 중복 제거 중...\n",
            "중복 제거 완료: 0개 중복 제거\n"
          ]
        }
      ]
    },
    {
      "cell_type": "code",
      "source": [
        "# 컬럼의 고유 값 출력 -> 불필요한 컬럼 확인\n",
        "print(data['상권업종대분류명'].unique())"
      ],
      "metadata": {
        "colab": {
          "base_uri": "https://localhost:8080/"
        },
        "id": "0LxgwnzcMV48",
        "outputId": "02c3e9b9-1622-44bd-c5fa-a2d3d0c38d6f"
      },
      "execution_count": 11,
      "outputs": [
        {
          "output_type": "stream",
          "name": "stdout",
          "text": [
            "['과학·기술' '음식' '소매' '시설관리·임대' '교육' '숙박' '부동산' '수리·개인' '예술·스포츠' '보건의료']\n"
          ]
        }
      ]
    },
    {
      "cell_type": "markdown",
      "source": [
        "### 불필요한 컬럼 식별 기준\n",
        "\n",
        "<필수 컬럼>\n",
        "* 위치 정보: 경도, 위도, 시도명, 시군구명, 법정동명\n",
        "* 업종 분포: 상권업종대분류명,  상권업종중분류명, 상권업종소분류명\n",
        "* 상권 정보: 도로명주소, 지번주소\n",
        "\n",
        "<불필요한 컬럼> - 분석에 무관/중복 컬럼\n",
        "* 건물명, 건물관리번호, 구우편번호, 법정동코드, 행정동코드, 지번코드, 대지구분코드, 도로명코드, 도로명, 건물본번지, 지번본번지, 시도코드"
      ],
      "metadata": {
        "id": "8upODCA6LTkj"
      }
    },
    {
      "cell_type": "code",
      "source": [
        "# 불필요한 컬럼 제거\n",
        "\n",
        "print(\"\\n>> 불필요한 컬럼 제거 중...\")\n",
        "columns_to_drop = ['건물명', '건물관리번호', '구우편번호', '법정동코드', '행정동코드', '지번코드','대지구분코드', '도로명코드', '도로명', '건물본번지','지번본번지', '상가업소번호', '상권업종대분류코드', '상권업종중분류코드', '시도코드']  # 분석에 필요하지 않은 컬럼\n",
        "data = data.drop(columns=columns_to_drop, errors='ignore')\n",
        "print(f\"불필요한 컬럼 제거 완료: {columns_to_drop}\")"
      ],
      "metadata": {
        "colab": {
          "base_uri": "https://localhost:8080/"
        },
        "id": "3KKiP2kGIlzx",
        "outputId": "6118af58-a89c-4d75-a9b5-1e48e08e0079"
      },
      "execution_count": 12,
      "outputs": [
        {
          "output_type": "stream",
          "name": "stdout",
          "text": [
            "\n",
            ">> 불필요한 컬럼 제거 중...\n",
            "불필요한 컬럼 제거 완료: ['건물명', '건물관리번호', '구우편번호', '법정동코드', '행정동코드', '지번코드', '대지구분코드', '도로명코드', '도로명', '건물본번지', '지번본번지', '상가업소번호', '상권업종대분류코드', '상권업종중분류코드', '시도코드']\n"
          ]
        }
      ]
    },
    {
      "cell_type": "markdown",
      "source": [
        "## 4. 데이터 변환"
      ],
      "metadata": {
        "id": "MLQ5-EN-WLzV"
      }
    },
    {
      "cell_type": "markdown",
      "source": [
        "* 경도, 위도 컬럼은 위치 정보를 나타내는 숫자형 데이터로, 올바른 분석과 시각화를 위해 숫자형(float)이어야 함\n",
        "* 입력 오류, 공백, 문자열 등으로 인해 데이터 타입이 object로 잘못 저장된 경우가 있을 수 있음. 이를 변환하여 분석 정확성을 확보해야 함.\n",
        "\n",
        "* 거리 계산, 상권 밀집도 분석, 클러스터링 등에 활용되므로 숫자형 데이터 필수\n",
        "* 지도 시각화(예: folium 또는 matplotlib)에서 float 타입으로 처리 필요"
      ],
      "metadata": {
        "id": "FMprhFiyYVR2"
      }
    },
    {
      "cell_type": "code",
      "source": [
        "# 데이터 타입 변환\n",
        "print(\"\\n>> 데이터 타입 변환 중...\")\n",
        "\n",
        "# 경도와 위도를 숫자형(float)으로 변환\n",
        "data['경도'] = pd.to_numeric(data['경도'], errors='coerce')\n",
        "data['위도'] = pd.to_numeric(data['위도'], errors='coerce')\n",
        "\n",
        "# 변환 후 데이터 타입 확인\n",
        "print(\"변환 후 데이터 타입:\\n\", data[['경도', '위도']].dtypes)"
      ],
      "metadata": {
        "colab": {
          "base_uri": "https://localhost:8080/"
        },
        "id": "WNFcTiJmWLqH",
        "outputId": "6b8bca5d-12cf-4eb6-ba71-4dd1f802f6fe"
      },
      "execution_count": 13,
      "outputs": [
        {
          "output_type": "stream",
          "name": "stdout",
          "text": [
            "\n",
            ">> 데이터 타입 변환 중...\n",
            "변환 후 데이터 타입:\n",
            " 경도    float64\n",
            "위도    float64\n",
            "dtype: object\n"
          ]
        }
      ]
    },
    {
      "cell_type": "code",
      "source": [
        "# 위도와 경도의 값이 유효한 범위 내에 있는지 확인\n",
        "print(\"\\n>> 데이터 유효성 확인 중...\")\n",
        "valid_longitude = (-180, 180)\n",
        "valid_latitude = (-90, 90)\n",
        "\n",
        "# 이상값 필터링\n",
        "invalid_locations = data[\n",
        "    (data['경도'] < valid_longitude[0]) | (data['경도'] > valid_longitude[1]) |\n",
        "    (data['위도'] < valid_latitude[0]) | (data['위도'] > valid_latitude[1])\n",
        "]\n",
        "print(f\"이상값 개수: {invalid_locations.shape[0]}\")\n",
        "\n",
        "# 이상값 제거\n",
        "data = data[\n",
        "    (data['경도'] >= valid_longitude[0]) & (data['경도'] <= valid_longitude[1]) &\n",
        "    (data['위도'] >= valid_latitude[0]) & (data['위도'] <= valid_latitude[1])\n",
        "]\n",
        "print(\"유효하지 않은 위치 제거 완료\")"
      ],
      "metadata": {
        "colab": {
          "base_uri": "https://localhost:8080/"
        },
        "id": "ldvQjHHHWLgJ",
        "outputId": "25aa8c82-072a-4d8b-89b9-aace17023cbb"
      },
      "execution_count": 14,
      "outputs": [
        {
          "output_type": "stream",
          "name": "stdout",
          "text": [
            "\n",
            ">> 데이터 유효성 확인 중...\n",
            "이상값 개수: 0\n",
            "유효하지 않은 위치 제거 완료\n"
          ]
        }
      ]
    },
    {
      "cell_type": "markdown",
      "source": [
        "## 5. 상권 상태 컬럼 추가"
      ],
      "metadata": {
        "id": "qLjnETjmak51"
      }
    },
    {
      "cell_type": "markdown",
      "source": [
        "상권의 위치(경도/위도)를 기준으로 중심상권과 기타를 분류하여 상권 밀집도 파악\n",
        "-> 창업 가능성이 높은 위치를 추천\n",
        "\n",
        "\n",
        "\n",
        "1) 중심상권: 높은 상가 밀집도와 주요 상업 지역\n",
        "* 위도 > 37.5, 경도 > 126.9 기준으로 분류\n",
        "\n",
        "2) 기타: 위 조건에 해당하지 않는 지역"
      ],
      "metadata": {
        "id": "7zt3B6lMsNaF"
      }
    },
    {
      "cell_type": "code",
      "source": [
        "# 상권 상태 분류 함수\n",
        "def classify_location(latitude, longitude):\n",
        "    \"\"\"\n",
        "    위도와 경도를 기준으로 상권 상태를 분류.\n",
        "    중심상권: 위도 > 37.5, 경도 > 126.9\n",
        "    기타: 위 조건에 해당하지 않는 지역\n",
        "    \"\"\"\n",
        "    if latitude > 37.5 and longitude > 126.9:\n",
        "        return '중심상권'\n",
        "    return '기타'\n",
        "\n",
        "# 상권 상태 컬럼 추가\n",
        "data['상권상태'] = data.apply(lambda x: classify_location(x['위도'], x['경도']), axis=1)\n",
        "\n",
        "# 상권 상태 분포 확인\n",
        "print(\"\\n상권 상태 분포:\")\n",
        "print(data['상권상태'].value_counts())\n",
        "\n",
        "# 상권 상태별 데이터 확인\n",
        "print(\"\\n상권 상태 데이터 예시:\")\n",
        "print(data[['상호명', '상권상태', '위도', '경도']].head())"
      ],
      "metadata": {
        "colab": {
          "base_uri": "https://localhost:8080/"
        },
        "id": "at_qP5UOamQs",
        "outputId": "903e8fe7-103a-45fb-f1a2-8e00460dfe24"
      },
      "execution_count": 15,
      "outputs": [
        {
          "output_type": "stream",
          "name": "stdout",
          "text": [
            "\n",
            "상권 상태 분포:\n",
            "상권상태\n",
            "기타      1918695\n",
            "중심상권     470128\n",
            "Name: count, dtype: int64\n",
            "\n",
            "상권 상태 데이터 예시:\n",
            "        상호명  상권상태         위도          경도\n",
            "0     이상한스냅    기타  37.542117  126.828832\n",
            "1       토끼정    기타  37.560053  126.833022\n",
            "2       가배차  중심상권  37.507170  127.116136\n",
            "3  비에이치씨항동점    기타  37.481640  126.820686\n",
            "4   무지개삼성약국    기타  37.489893  127.081499\n"
          ]
        }
      ]
    },
    {
      "cell_type": "markdown",
      "source": [
        "## 6. 전처리된 데이터 저장"
      ],
      "metadata": {
        "id": "AyatZcMXt3mG"
      }
    },
    {
      "cell_type": "markdown",
      "source": [
        "### 전처리된 데이터 확인"
      ],
      "metadata": {
        "id": "F5J1w9GqvmHk"
      }
    },
    {
      "cell_type": "code",
      "source": [
        "# 데이터프레임 확인\n",
        "print(\"데이터 크기:\", data.shape)\n",
        "print(\"데이터 컬럼:\")\n",
        "print(data.columns)\n",
        "print(\"상위 5개 데이터:\")\n",
        "print(data.head())"
      ],
      "metadata": {
        "colab": {
          "base_uri": "https://localhost:8080/"
        },
        "id": "cMl0mRZPvzSL",
        "outputId": "bbf2cd0c-46d1-461e-8c80-7c89083e430f"
      },
      "execution_count": 16,
      "outputs": [
        {
          "output_type": "stream",
          "name": "stdout",
          "text": [
            "데이터 크기: (2388823, 20)\n",
            "데이터 컬럼:\n",
            "Index(['상호명', '지점명', '상권업종대분류명', '상권업종중분류명', '상권업종소분류코드', '상권업종소분류명',\n",
            "       '표준산업분류코드', '표준산업분류명', '시도명', '시군구코드', '시군구명', '행정동명', '법정동명', '대지구분명',\n",
            "       '지번주소', '도로명주소', '신우편번호', '경도', '위도', '상권상태'],\n",
            "      dtype='object')\n",
            "상위 5개 데이터:\n",
            "        상호명 지점명 상권업종대분류명   상권업종중분류명 상권업종소분류코드 상권업종소분류명 표준산업분류코드  \\\n",
            "0     이상한스냅  본점    과학·기술      사진 촬영    M11301    사진촬영업   M73303   \n",
            "1       토끼정  본점       음식         한식    I20101   백반/한정식   I56111   \n",
            "2       가배차  본점       음식         한식    I20101   백반/한정식   I56111   \n",
            "3  비에이치씨항동점  본점       음식      기타 간이    I21006       치킨   I56193   \n",
            "4   무지개삼성약국  본점       소매  의약·화장품 소매    G21501       약국   G47811   \n",
            "\n",
            "          표준산업분류명    시도명  시군구코드 시군구명  행정동명 법정동명 대지구분명                  지번주소  \\\n",
            "0          사진 처리업  서울특별시  11470  양천구  신월5동  신월동    대지     서울특별시 양천구 신월동 9-4   \n",
            "1      한식 일반 음식점업  서울특별시  11500  강서구  가양1동  마곡동    대지  서울특별시 강서구 마곡동 774-12   \n",
            "2      한식 일반 음식점업  서울특별시  11710  송파구  송파1동  송파동    대지   서울특별시 송파구 송파동 143-2   \n",
            "3          치킨 전문점  서울특별시  11530  구로구    항동   항동    대지    서울특별시 구로구 항동 100-5   \n",
            "4  의약품 및 의료용품 소매업  서울특별시  11680  강남구  일원1동  일원동    대지   서울특별시 강남구 일원동 684-5   \n",
            "\n",
            "               도로명주소  신우편번호          경도         위도  상권상태  \n",
            "0  서울특별시 양천구 월정로 283   7902  126.828832  37.542117    기타  \n",
            "1  서울특별시 강서구 마곡동로 55   7802  126.833022  37.560053    기타  \n",
            "2  서울특별시 송파구 가락로 209   5663  127.116136  37.507170  중심상권  \n",
            "3  서울특별시 구로구 연동로 233   8362  126.820686  37.481640    기타  \n",
            "4   서울특별시 강남구 일원로 45   6343  127.081499  37.489893    기타  \n"
          ]
        }
      ]
    },
    {
      "cell_type": "markdown",
      "source": [],
      "metadata": {
        "id": "B1_CdI5czYBz"
      }
    },
    {
      "cell_type": "code",
      "source": [
        "import os\n",
        "\n",
        "# 저장 경로 설정\n",
        "base_folder = \"/content/drive/MyDrive/BDP_data\"  # 폴더 경로 (추후 수정)\n",
        "sub_folder = \"preprocessed_data\"  # 저장할 하위 폴더 이름\n",
        "file_name = \"preprocessed_data.csv\"  # 저장할 파일 이름 / 형식 추후 수정\n",
        "output_path = os.path.join(base_folder, sub_folder, file_name)\n",
        "\n",
        "# 1. preprocessed_data 폴더 생성\n",
        "if not os.path.exists(os.path.join(base_folder, sub_folder)):  # 폴더가 없으면 생성\n",
        "    print(\"\\n>> preprocessed_data 폴더가 없으므로 생성 중...\")\n",
        "    os.makedirs(os.path.join(base_folder, sub_folder))\n",
        "    print(f\"폴더 생성 완료: {os.path.join(base_folder, sub_folder)}\")\n",
        "else:\n",
        "    print(\"\\n>> preprocessed_data 폴더가 이미 존재합니다. 생성하지 않습니다.\")\n",
        "\n",
        "# 2. 데이터 저장\n",
        "print(\"\\n>> 데이터 저장 중...\")\n",
        "data.to_csv(output_path, index=False, encoding='utf-8') # 파일 형식 추후 수정\n",
        "print(f\"데이터 저장 완료: {output_path}\")"
      ],
      "metadata": {
        "colab": {
          "base_uri": "https://localhost:8080/"
        },
        "id": "RJ7tvQATamWu",
        "outputId": "c2b54dde-a2ce-456c-e1da-3d9647e1a5c1"
      },
      "execution_count": 17,
      "outputs": [
        {
          "output_type": "stream",
          "name": "stdout",
          "text": [
            "\n",
            ">> preprocessed_data 폴더가 이미 존재합니다. 생성하지 않습니다.\n",
            "\n",
            ">> 데이터 저장 중...\n",
            "데이터 저장 완료: /content/drive/MyDrive/BDP_data/preprocessed_data/preprocessed_data.csv\n"
          ]
        }
      ]
    }
  ]
}